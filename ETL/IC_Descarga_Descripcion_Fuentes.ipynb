{
  "cells": [
    {
      "cell_type": "code",
      "execution_count": 1,
      "metadata": {
        "colab": {
          "base_uri": "https://localhost:8080/"
        },
        "id": "UHx2_ZGJQiKZ",
        "outputId": "7f72f161-4544-4991-e3ba-802176c0c287"
      },
      "outputs": [
        {
          "name": "stdout",
          "output_type": "stream",
          "text": [
            "Requirement already satisfied: pandas in c:\\users\\lordm\\appdata\\local\\programs\\python\\python312\\lib\\site-packages (2.1.1)\n",
            "Requirement already satisfied: openpyxl in c:\\users\\lordm\\appdata\\local\\programs\\python\\python312\\lib\\site-packages (3.1.2)\n",
            "Requirement already satisfied: requests in c:\\users\\lordm\\appdata\\local\\programs\\python\\python312\\lib\\site-packages (2.31.0)\n",
            "Requirement already satisfied: beautifulsoup4 in c:\\users\\lordm\\appdata\\local\\programs\\python\\python312\\lib\\site-packages (4.12.2)\n",
            "Requirement already satisfied: numpy>=1.26.0 in c:\\users\\lordm\\appdata\\local\\programs\\python\\python312\\lib\\site-packages (from pandas) (1.26.0)\n",
            "Requirement already satisfied: python-dateutil>=2.8.2 in c:\\users\\lordm\\appdata\\roaming\\python\\python312\\site-packages (from pandas) (2.8.2)\n",
            "Requirement already satisfied: pytz>=2020.1 in c:\\users\\lordm\\appdata\\local\\programs\\python\\python312\\lib\\site-packages (from pandas) (2023.3.post1)\n",
            "Requirement already satisfied: tzdata>=2022.1 in c:\\users\\lordm\\appdata\\local\\programs\\python\\python312\\lib\\site-packages (from pandas) (2023.3)\n",
            "Requirement already satisfied: et-xmlfile in c:\\users\\lordm\\appdata\\local\\programs\\python\\python312\\lib\\site-packages (from openpyxl) (1.1.0)\n",
            "Requirement already satisfied: charset-normalizer<4,>=2 in c:\\users\\lordm\\appdata\\local\\programs\\python\\python312\\lib\\site-packages (from requests) (3.3.0)\n",
            "Requirement already satisfied: idna<4,>=2.5 in c:\\users\\lordm\\appdata\\local\\programs\\python\\python312\\lib\\site-packages (from requests) (3.4)\n",
            "Requirement already satisfied: urllib3<3,>=1.21.1 in c:\\users\\lordm\\appdata\\local\\programs\\python\\python312\\lib\\site-packages (from requests) (2.0.6)\n",
            "Requirement already satisfied: certifi>=2017.4.17 in c:\\users\\lordm\\appdata\\local\\programs\\python\\python312\\lib\\site-packages (from requests) (2023.7.22)\n",
            "Requirement already satisfied: soupsieve>1.2 in c:\\users\\lordm\\appdata\\local\\programs\\python\\python312\\lib\\site-packages (from beautifulsoup4) (2.5)\n",
            "Requirement already satisfied: six>=1.5 in c:\\users\\lordm\\appdata\\roaming\\python\\python312\\site-packages (from python-dateutil>=2.8.2->pandas) (1.16.0)\n",
            "Note: you may need to restart the kernel to use updated packages.\n",
            "Requirement already satisfied: wget in c:\\users\\lordm\\appdata\\local\\programs\\python\\python312\\lib\\site-packages (3.2)\n",
            "Note: you may need to restart the kernel to use updated packages.\n",
            "Requirement already satisfied: gdown in c:\\users\\lordm\\appdata\\local\\programs\\python\\python312\\lib\\site-packages (4.7.1)\n",
            "Requirement already satisfied: filelock in c:\\users\\lordm\\appdata\\local\\programs\\python\\python312\\lib\\site-packages (from gdown) (3.12.4)\n",
            "Requirement already satisfied: requests[socks] in c:\\users\\lordm\\appdata\\local\\programs\\python\\python312\\lib\\site-packages (from gdown) (2.31.0)\n",
            "Requirement already satisfied: six in c:\\users\\lordm\\appdata\\roaming\\python\\python312\\site-packages (from gdown) (1.16.0)\n",
            "Requirement already satisfied: tqdm in c:\\users\\lordm\\appdata\\local\\programs\\python\\python312\\lib\\site-packages (from gdown) (4.66.1)\n",
            "Requirement already satisfied: beautifulsoup4 in c:\\users\\lordm\\appdata\\local\\programs\\python\\python312\\lib\\site-packages (from gdown) (4.12.2)\n",
            "Requirement already satisfied: soupsieve>1.2 in c:\\users\\lordm\\appdata\\local\\programs\\python\\python312\\lib\\site-packages (from beautifulsoup4->gdown) (2.5)\n",
            "Requirement already satisfied: charset-normalizer<4,>=2 in c:\\users\\lordm\\appdata\\local\\programs\\python\\python312\\lib\\site-packages (from requests[socks]->gdown) (3.3.0)\n",
            "Requirement already satisfied: idna<4,>=2.5 in c:\\users\\lordm\\appdata\\local\\programs\\python\\python312\\lib\\site-packages (from requests[socks]->gdown) (3.4)\n",
            "Requirement already satisfied: urllib3<3,>=1.21.1 in c:\\users\\lordm\\appdata\\local\\programs\\python\\python312\\lib\\site-packages (from requests[socks]->gdown) (2.0.6)\n",
            "Requirement already satisfied: certifi>=2017.4.17 in c:\\users\\lordm\\appdata\\local\\programs\\python\\python312\\lib\\site-packages (from requests[socks]->gdown) (2023.7.22)\n",
            "Requirement already satisfied: PySocks!=1.5.7,>=1.5.6 in c:\\users\\lordm\\appdata\\local\\programs\\python\\python312\\lib\\site-packages (from requests[socks]->gdown) (1.7.1)\n",
            "Requirement already satisfied: colorama in c:\\users\\lordm\\appdata\\roaming\\python\\python312\\site-packages (from tqdm->gdown) (0.4.6)\n",
            "Note: you may need to restart the kernel to use updated packages.\n",
            "Requirement already satisfied: unidecode in c:\\users\\lordm\\appdata\\local\\programs\\python\\python312\\lib\\site-packages (1.3.7)\n",
            "Note: you may need to restart the kernel to use updated packages.\n"
          ]
        }
      ],
      "source": [
        "# Instalando las paqueterías necesarias.\n",
        "%pip install pandas openpyxl requests beautifulsoup4\n",
        "%pip install wget\n",
        "%pip install gdown\n",
        "%pip install unidecode"
      ]
    },
    {
      "cell_type": "markdown",
      "metadata": {
        "id": "WlT8D8oM1f2p"
      },
      "source": [
        "Las siguientes librerías nos ayudaran para el desarrollo del proceso de descarga y generación del archivo txt. es necesario que este al principio para su correcto funcionamiento.\n",
        "\n",
        "Se utiliza librerías especiales como gwdown para descarga de archivos grandes, eliminando la confirmación de permiso de descarga.\n",
        "\n",
        "Se utiliza librería unicode, para poder quitar los acentos de ciertas palabras y usarlo como nombre de archivos a descargar.\n"
      ]
    },
    {
      "cell_type": "code",
      "execution_count": 2,
      "metadata": {
        "id": "gY6pHKnxVf02"
      },
      "outputs": [],
      "source": [
        "# Importación de librerías para usarlas en el proyecto de descarga y generación del txt con la descripción de esta\n",
        "import pandas as pd\n",
        "import wget\n",
        "import gdown\n",
        "import requests\n",
        "import re\n",
        "import os\n",
        "from bs4 import BeautifulSoup\n",
        "from datetime import datetime\n",
        "from logging import exception\n",
        "from unidecode import unidecode\n",
        "from datetime import datetime"
      ]
    },
    {
      "cell_type": "markdown",
      "metadata": {
        "id": "WrKBE0zm2OZK"
      },
      "source": [
        "La inicialización de ciertas variables ayudaran a preparar la información inicial de cada una de ellas, además de que puedan ser usadas en cualquier parte del código o proceso, sin en el que perjudique el ámbito o espacio donde estas estén siendo seteadas."
      ]
    },
    {
      "cell_type": "code",
      "execution_count": 3,
      "metadata": {
        "id": "vB3CEL3HoRBp"
      },
      "outputs": [],
      "source": [
        "# Inicializando variables que serán usadas más adelante\n",
        "\n",
        "incidencia_delictiva_link = 'https://www.gob.mx/sesnsp/acciones-y-programas/datos-abiertos-de-incidencia-delictiva'\n",
        "incidencia_title = ''\n",
        "incidencia_description = ''\n",
        "\n",
        "folder_path_data = '../rawdata'\n",
        "folder_path_log = '../logs/descarga/'\n",
        "csv_filepath = ''\n",
        "\n",
        "# Creando variable que contendra el listado de cada source descargado.\n",
        "sources_list = []\n",
        "\n",
        "# Creando variable que contendra el listado de cada nombre de archivo descargado y que esta siendo enviado a nuestro repositorio\n",
        "names_files_list = []\n",
        "\n",
        "texto_list = ''"
      ]
    },
    {
      "cell_type": "code",
      "execution_count": 5,
      "metadata": {
        "id": "elWoM2gu1znm"
      },
      "outputs": [],
      "source": [
        "# sección de funciones para descarga de archivos desde fuentes que vienen de enlaces proporcionados por la página del gobierno.\n",
        "\n",
        "# Función utilizada para la descarga de archivos almacenados en google drive por parte de la institución donde se requiere obtener los datos.\n",
        "# - document: recibe el id del documento en google drive.\n",
        "# - description: Texto de la etiqueta de enlace, el cual describe la naturaleza de la información a descargar.\n",
        "def download_csv_from_http(document, description):\n",
        "\n",
        "  print(f\"link \" + description)\n",
        "\n",
        "  try:\n",
        "\n",
        "    # Verificando si la carpeta existe, si no, crearla\n",
        "    if not os.path.exists(folder_path_data):\n",
        "        os.makedirs(folder_path_data)\n",
        "\n",
        "    # Url de descarga a traves de google drive\n",
        "    csv_url = f'https://drive.google.com/uc?id={document}'\n",
        "\n",
        "    # Descargando archivos desde la url proporcionada\n",
        "    response_csv = requests.get(csv_url)\n",
        "\n",
        "    # Parte donde se hace una limpieza del parámetro description enviado,\n",
        "    # esto para construir el nombre que tendrá el archivo csv que se descarga a partir de los datos de las fuentes\n",
        "    # Utilizando expresión regular para reemplazar caracteres especiales y espacios por un solo guion bajo aplicándolo en la descripción del enlace.\n",
        "    csv_filename = re.sub(r'[^\\w\\s]+', '', description)\n",
        "    csv_filename = re.sub(r'\\s+', '', csv_filename)\n",
        "    # Utilizando unidecode para quitar los acentos y no cause conflictos como nombre de archivo\n",
        "    csv_filename = unidecode(csv_filename)\n",
        "    csv_filename = csv_filename + \".csv\"\n",
        "\n",
        "    # Construyendo la ruta completa del archivo\n",
        "    csv_filepath = os.path.join(folder_path_data, csv_filename)\n",
        "\n",
        "    names_files_list.append(csv_filename)\n",
        "    #------------------------------------------------------------------------------------------------------------------------------------\n",
        "\n",
        "    # Guardando el archivo descargado, en el repositorio del proyecto\n",
        "    with open(csv_filepath, 'wb') as csv_file:\n",
        "      csv_file.write(response_csv.content)\n",
        "\n",
        "    # Leer el archivo CSV con la codificación original\n",
        "    df = pd.read_csv(csv_filepath, encoding='latin1')\n",
        "\n",
        "    # Guardar el archivo CSV con codificación UTF-8\n",
        "    df.to_csv(csv_filepath, index=False, encoding='utf-8')\n",
        "\n",
        "  except exception as err:\n",
        "    print(f'Genero error: ' + description)\n",
        "\n",
        "# *****************************************************************************************************************************************\n",
        "\n",
        "# Función utilizada para la descarga de archivos almacenados en google drive por parte de la institución donde se requiere obtener los datos.\n",
        "# - document: recibe el id del documento en google drive.\n",
        "# - description: Texto de la etiqueta de enlace, el cual describe la naturaleza de la información a descargar.\n",
        "# (Para descarga de documentos muy grandes, libreria gdown)\n",
        "def download_csv_from_http_high(document, description):\n",
        "\n",
        "  print(f\"link \" + description)\n",
        "\n",
        "  try:\n",
        "\n",
        "    # Verificando si la carpeta existe, si no, crearla\n",
        "    if not os.path.exists(folder_path_data):\n",
        "      os.makedirs(folder_path_data)\n",
        "\n",
        "    # Url de descarga a traves de google drive\n",
        "    csv_url = f'https://drive.google.com/uc?id={document}'\n",
        "\n",
        "    # Parte donde se hace una limpieza del parámetro description enviado,\n",
        "    # esto para construir el nombre que tendrá el archivo csv que se descarga a partir de los datos de las fuentes\n",
        "    # Utilizando expresión regular para reemplazar caracteres especiales y espacios por un solo guion bajo aplicándolo en la descripción del enlace.\n",
        "    csv_filename = re.sub(r'[^\\w\\s]+', '', description)\n",
        "    csv_filename = re.sub(r'\\s+', '', csv_filename)\n",
        "    csv_filename = unidecode(csv_filename)\n",
        "    csv_filename = csv_filename + \".csv\"\n",
        "\n",
        "    # Construyendo la ruta completa del archivo\n",
        "    csv_filepath = os.path.join(folder_path_data, csv_filename)\n",
        "\n",
        "    names_files_list.append(csv_filename)\n",
        "    #----------------------------------------------------------------------------------------------------------------------------------------\n",
        "\n",
        "    # Utilizando wget para descargar archivos grandes sin restricciones\n",
        "    gdown.download(csv_url, csv_filepath, quiet=False)\n",
        "\n",
        "    # Leer el archivo CSV con la codificación original\n",
        "    df = pd.read_csv(csv_filepath, encoding='latin1')\n",
        "\n",
        "    # Guardar el archivo CSV con codificación UTF-8\n",
        "    df.to_csv(csv_filepath, index=False, encoding='utf-8')\n",
        "\n",
        "  except exception as err:\n",
        "    print(f'Genero error: ' + description)"
      ]
    },
    {
      "cell_type": "code",
      "execution_count": 6,
      "metadata": {
        "colab": {
          "base_uri": "https://localhost:8080/"
        },
        "id": "4Gsk95W9Y_U6",
        "outputId": "dc72757f-acc8-4e01-f291-c331f9a0ae2f"
      },
      "outputs": [
        {
          "name": "stdout",
          "output_type": "stream",
          "text": [
            "# Descargando archivos proporcionados por https://www.gob.mx/sesnsp/acciones-y-programas/datos-abiertos-de-incidencia-delictiva\n",
            "link Cifras de Incidencia Delictiva Estatal, 2015 - agosto  2023\n",
            "link Cifras de Incidencia Delictiva Municipal, 2015 - agosto 2023. \n"
          ]
        },
        {
          "name": "stderr",
          "output_type": "stream",
          "text": [
            "Downloading...\n",
            "From (uriginal): https://drive.google.com/uc?id=13TjyJ9RkR49o0eWTFvhNqazeL4maORYp\n",
            "From (redirected): https://drive.google.com/uc?id=13TjyJ9RkR49o0eWTFvhNqazeL4maORYp&confirm=t&uuid=570dd9a5-00cc-498b-bad7-518189d2659f\n",
            "To: c:\\Proyectos\\Maestria\\IngenieriaCaracteristicas\\Proyectos\\IC-Proyecto-Indicadores-Delictivos\\rawdata\\CifrasdeIncidenciaDelictivaMunicipal2015agosto2023.csv\n",
            "100%|██████████| 306M/306M [00:42<00:00, 7.26MB/s] \n"
          ]
        },
        {
          "name": "stdout",
          "output_type": "stream",
          "text": [
            "Cifras de Incidencia Delictiva Municipal, 2015 - agosto 2023. : https://drive.google.com/file/d/13TjyJ9RkR49o0eWTFvhNqazeL4maORYp/view?usp=sharing\n",
            "link Cifras de Víctimas del Fuero Común, 2015 - agosto 2023\n",
            "link Cifras de Incidencia Delictiva Federal, 2012 - agosto 2023\n"
          ]
        }
      ],
      "source": [
        "# Descargando archivos proporcionados por https://www.gob.mx/sesnsp/acciones-y-programas/datos-abiertos-de-incidencia-delictiva\n",
        "print('# Descargando archivos proporcionados por https://www.gob.mx/sesnsp/acciones-y-programas/datos-abiertos-de-incidencia-delictiva')\n",
        "# Realizando Web scraping a la página donde están las distintas fuentes de datos\n",
        "# Esto asegura que los datos puedan ser descargados de forma automática sin necesidad de estar descargado uno por uno directamente desde la página.\n",
        "url = 'https://www.gob.mx/sesnsp/acciones-y-programas/datos-abiertos-de-incidencia-delictiva'\n",
        "response = requests.get(url)\n",
        "soup = BeautifulSoup(response.text, 'html.parser')\n",
        "pretty_soup = soup.prettify()\n",
        "\n",
        "# Obteniendo el texto dentro de la etiqueta <title>\n",
        "incidencia_source_title = soup.title.text.strip()\n",
        "\n",
        "# Separando el texto por los pipes \"|\", esto porque el texto original viene con dicho carácter especial\n",
        "title_parts = incidencia_source_title.split('|')\n",
        "\n",
        "# Limpiando los espacios en blanco alrededor de cada parte del titulo encontrado\n",
        "title_parts = [part.strip() for part in title_parts]\n",
        "\n",
        "incidencia_title = title_parts[0] + \" - \" + title_parts[1]\n",
        "\n",
        "# Buscando todas las etiquetas <h2> y extraer su texto, esto ayudara a poder extraer la descripción de la página, la explicación de la razón de la página.\n",
        "h2_tags = soup.find_all('h2')\n",
        "\n",
        "# Se recorren cada una de los parrafos H2 encontrados para luego extraer el texto en donde comience con \"En esta pagina...\".\n",
        "for h2_tag in h2_tags:\n",
        "    text_inside_h2 = h2_tag.text.strip()\n",
        "\n",
        "    if(text_inside_h2.find('En esta página')!=-1) :\n",
        "      incidencia_description = text_inside_h2\n",
        "\n",
        "# Buscando todas las etiquetas <ul>, esto ayudara más adelante a poder realizar las descargas, pues aquí se encontrará las url de cada enlace.\n",
        "ul_tags = soup.find_all('ul')\n",
        "\n",
        "for ul_tag in ul_tags:\n",
        "    # Buscando todas las etiquetas <li> dentro de cada <ul>\n",
        "    li_tags = ul_tag.find_all('li')\n",
        "\n",
        "    for li_tag in li_tags:\n",
        "         # Buscando todas las etiquetas <a> dentro de cada <li> con texto que comienza con \"Cifras\"\n",
        "        a_tags = li_tag.find_all('a', href=True, string=lambda x: x and x.startswith('Cifras'))\n",
        "\n",
        "        for a_tag in a_tags:\n",
        "            # Obteniendo el valor del atributo href, para extraer su url\n",
        "            href_value = a_tag['href']\n",
        "\n",
        "            # Utilizando expresión regular para extraer la parte antes de \"/view\" de cada url esto para conseguir el id del documento\n",
        "            match = re.search(r'/file/d/(.*?)/view', href_value)\n",
        "            # match = re.search(r'(.*?)/view', href_value)\n",
        "\n",
        "            # En caso de encontrar coicidencia, se procede a extraer el id del documento de descarga.\n",
        "            if match:\n",
        "              extracted_part = match.group(1)\n",
        "              if a_tag.text.find(str(datetime.now().year)) != -1:\n",
        "                # Condicionante para poder detectar si la descarga es de datos referentes a municipios, esto por conocimiento, son descargas más pesadas y por lo cual se ocupa de librería especial.\n",
        "                if a_tag.text.find('Municipal') != -1:\n",
        "                  download_csv_from_http_high(extracted_part, a_tag.text)\n",
        "\n",
        "                  # Imprimiendo el tag descriptivo y la url para mostrarla en pantalla\n",
        "                  print(f\"\"+ a_tag.text + \": \" + href_value)\n",
        "                else:\n",
        "                  download_csv_from_http(extracted_part, a_tag.text)\n",
        "\n",
        "                #Creando listado que será usado para el documento con la descripción de la descarga de las distintas fuentes, de incidencia delictiva\n",
        "                sources_list.append(f\"- {a_tag.text}: {href_value}\")"
      ]
    },
    {
      "cell_type": "code",
      "execution_count": 7,
      "metadata": {
        "id": "_--TzngMSZL7"
      },
      "outputs": [],
      "source": [
        "# Convertiendo la lista de nombres de archivos generados a DataFrame\n",
        "df_names = pd.DataFrame(names_files_list)\n",
        "\n",
        "df_names = df_names.rename(columns={0: \"nombre\"})\n",
        "\n",
        "# Guardando el DataFrame como un archivo CSV\n",
        "df_names.to_csv(f'{folder_path_data}/nombres_dataset.csv', index=False, encoding='utf-8')"
      ]
    },
    {
      "cell_type": "code",
      "execution_count": 8,
      "metadata": {
        "colab": {
          "base_uri": "https://localhost:8080/"
        },
        "id": "GMkCZnJDB2s4",
        "outputId": "d3dfc7f9-d0ce-4959-c260-bce4d3a16049"
      },
      "outputs": [
        {
          "name": "stdout",
          "output_type": "stream",
          "text": [
            "(28224, 19)\n"
          ]
        }
      ],
      "source": [
        "# Leyendo archivos en DataFrames, a partir de los archivos csv generados, provenientes de las fuentes de datos.\n",
        "df_incidencia = pd.read_csv(f'{folder_path_data}/CifrasdeIncidenciaDelictivaEstatal2015agosto2023.csv')\n",
        "\n",
        "print(df_incidencia.shape)"
      ]
    },
    {
      "cell_type": "code",
      "execution_count": 9,
      "metadata": {
        "colab": {
          "base_uri": "https://localhost:8080/"
        },
        "id": "MxfL8ahdP8VM",
        "outputId": "cdd1f38d-b18c-40ff-d463-1e8ad17f7e57"
      },
      "outputs": [
        {
          "name": "stdout",
          "output_type": "stream",
          "text": [
            "Archivos de datos descargados y descripción en txt creada.\n"
          ]
        }
      ],
      "source": [
        "# Creando el archivo de texto con descripción general de las fuentes de descargar y parte del proceso ETL\n",
        "\n",
        "# Verificando si la carpeta existe, si no, crearla\n",
        "if not os.path.exists(folder_path_log):\n",
        "  os.makedirs(folder_path_log)\n",
        "\n",
        "# Uniendo elementos de la lista de las fuentes en donde se han descargado los datos (sources_list)\n",
        "texto_list = \"\\n\".join(sources_list)\n",
        "\n",
        "date_now = datetime.now()\n",
        "\n",
        "# Variable que contiene el texto que tendrá el archivo txt que se generará y descargará.\n",
        "description = f\"\"\"\n",
        "Proyecto: contando una historia a través de los datos (análisis de la variabilidad del comportamiento delictivo\n",
        "en relación con factores temporales y geográficos, y su correlación con el desarrollo social y urbano para la prevención del delito)\n",
        "\n",
        "Equipo participante:\n",
        "- Ernesto\n",
        "- Luis Andrés\n",
        "- Mario Estrada Ferreira\n",
        "\n",
        "Descripción de los datos descargados:\n",
        "- Las fuentes fueron descargadas y donde se puede encontrar información adicional en el sitio web: {incidencia_delictiva_link}\n",
        "\n",
        "Fuentes:\n",
        "{texto_list}\n",
        "\n",
        "Fechas de descarga:\n",
        "- El proceso de descarga de los datos se realizó el: {date_now.strftime('%Y-%m-%d %H:%M:%S')}\n",
        "\"\"\"\n",
        "# Se crea el archivo a partir del texto de arriba, el cual se guardará con el nombre descriptivo más la fecha día*mes*año, para identificar la descarga por día.\n",
        "with open(f'{folder_path_log}/fuentes_descripcion{date_now.strftime(\"%d%m%y\")}.txt', 'w') as description_file:\n",
        "    description_file.write(description)\n",
        "\n",
        "print(\"Archivos de datos descargados y descripción en txt creada.\")"
      ]
    },
    {
      "cell_type": "code",
      "execution_count": 10,
      "metadata": {
        "colab": {
          "base_uri": "https://localhost:8080/",
          "height": 175
        },
        "id": "yiiB4K8JUcDg",
        "outputId": "4c0b1b44-7349-4987-b7bc-2ef5c19f1592"
      },
      "outputs": [
        {
          "data": {
            "text/html": [
              "<div>\n",
              "<style scoped>\n",
              "    .dataframe tbody tr th:only-of-type {\n",
              "        vertical-align: middle;\n",
              "    }\n",
              "\n",
              "    .dataframe tbody tr th {\n",
              "        vertical-align: top;\n",
              "    }\n",
              "\n",
              "    .dataframe thead th {\n",
              "        text-align: right;\n",
              "    }\n",
              "</style>\n",
              "<table border=\"1\" class=\"dataframe\">\n",
              "  <thead>\n",
              "    <tr style=\"text-align: right;\">\n",
              "      <th></th>\n",
              "      <th>nombre</th>\n",
              "    </tr>\n",
              "  </thead>\n",
              "  <tbody>\n",
              "    <tr>\n",
              "      <th>0</th>\n",
              "      <td>CifrasdeIncidenciaDelictivaEstatal2015agosto20...</td>\n",
              "    </tr>\n",
              "    <tr>\n",
              "      <th>1</th>\n",
              "      <td>CifrasdeIncidenciaDelictivaMunicipal2015agosto...</td>\n",
              "    </tr>\n",
              "    <tr>\n",
              "      <th>2</th>\n",
              "      <td>CifrasdeVictimasdelFueroComun2015agosto2023.csv</td>\n",
              "    </tr>\n",
              "    <tr>\n",
              "      <th>3</th>\n",
              "      <td>CifrasdeIncidenciaDelictivaFederal2012agosto20...</td>\n",
              "    </tr>\n",
              "  </tbody>\n",
              "</table>\n",
              "</div>"
            ],
            "text/plain": [
              "                                              nombre\n",
              "0  CifrasdeIncidenciaDelictivaEstatal2015agosto20...\n",
              "1  CifrasdeIncidenciaDelictivaMunicipal2015agosto...\n",
              "2    CifrasdeVictimasdelFueroComun2015agosto2023.csv\n",
              "3  CifrasdeIncidenciaDelictivaFederal2012agosto20..."
            ]
          },
          "execution_count": 10,
          "metadata": {},
          "output_type": "execute_result"
        }
      ],
      "source": [
        "nombres_dataset = pd.read_csv(f'{folder_path_data}/nombres_dataset.csv')\n",
        "df_nombres_dataset = pd.DataFrame(nombres_dataset)\n",
        "df_nombres_dataset.head()"
      ]
    },
    {
      "cell_type": "code",
      "execution_count": 11,
      "metadata": {
        "colab": {
          "base_uri": "https://localhost:8080/"
        },
        "id": "yaLmntJ7_bD-",
        "outputId": "1f667532-810d-4f8c-86f0-9bf2a35f7c7d"
      },
      "outputs": [
        {
          "name": "stdout",
          "output_type": "stream",
          "text": [
            "    Año  Clave_Ent         Entidad            Bien jurídico afectado  \\\n",
            "0  2015          1  Aguascalientes  La vida y la Integridad corporal   \n",
            "1  2015          1  Aguascalientes  La vida y la Integridad corporal   \n",
            "2  2015          1  Aguascalientes  La vida y la Integridad corporal   \n",
            "3  2015          1  Aguascalientes  La vida y la Integridad corporal   \n",
            "4  2015          1  Aguascalientes  La vida y la Integridad corporal   \n",
            "\n",
            "  Tipo de delito  Subtipo de delito          Modalidad  Enero  Febrero  Marzo  \\\n",
            "0      Homicidio   Homicidio doloso  Con arma de fuego      3        0      2   \n",
            "1      Homicidio   Homicidio doloso    Con arma blanca      1        1      0   \n",
            "2      Homicidio   Homicidio doloso  Con otro elemento      0        0      2   \n",
            "3      Homicidio   Homicidio doloso    No especificado      2        0      0   \n",
            "4      Homicidio  Homicidio culposo  Con arma de fuego      0        0      0   \n",
            "\n",
            "   Abril  Mayo  Junio  Julio  Agosto  Septiembre  Octubre  Noviembre  \\\n",
            "0      1     1      1      2       1         2.0      2.0        2.0   \n",
            "1      0     0      1      0       1         0.0      0.0        0.0   \n",
            "2      2     3      2      0       1         2.0      0.0        0.0   \n",
            "3      1     0      0      0       0         0.0      0.0        0.0   \n",
            "4      0     1      0      0       0         0.0      0.0        0.0   \n",
            "\n",
            "   Diciembre  \n",
            "0        1.0  \n",
            "1        1.0  \n",
            "2        0.0  \n",
            "3        0.0  \n",
            "4        0.0  \n"
          ]
        }
      ],
      "source": [
        "# Leyendo archivos en DataFrames, a partir de los archivos csv generados, provenientes de las fuentes de datos.\n",
        "df_incidencia = pd.read_csv(f'{folder_path_data}/CifrasdeIncidenciaDelictivaEstatal2015agosto2023.csv')\n",
        "\n",
        "print(df_incidencia.head())"
      ]
    },
    {
      "cell_type": "code",
      "execution_count": 12,
      "metadata": {
        "colab": {
          "base_uri": "https://localhost:8080/"
        },
        "id": "r99IMYcmOzwn",
        "outputId": "0d121fd3-2caf-4c37-bc5b-57f5bd29f417"
      },
      "outputs": [
        {
          "name": "stdout",
          "output_type": "stream",
          "text": [
            "    AÑO  INEGI         ENTIDAD                   LEY         CONCEPTO  \\\n",
            "0  2012    1.0  AGUASCALIENTES  CODIGO PENAL FEDERAL  CONTRA LA SALUD   \n",
            "1  2012    1.0  AGUASCALIENTES  CODIGO PENAL FEDERAL  CONTRA LA SALUD   \n",
            "2  2012    1.0  AGUASCALIENTES  CODIGO PENAL FEDERAL  CONTRA LA SALUD   \n",
            "3  2012    1.0  AGUASCALIENTES  CODIGO PENAL FEDERAL  CONTRA LA SALUD   \n",
            "4  2012    1.0  AGUASCALIENTES  CODIGO PENAL FEDERAL  CONTRA LA SALUD   \n",
            "\n",
            "         TIPO  ENERO  FEBRERO  MARZO  ABRIL  MAYO  JUNIO  JULIO  AGOSTO  \\\n",
            "0  PRODUCCION      0        0      0      0     0      0      0       0   \n",
            "1  TRANSPORTE      0        0      0      3     1      3      0       0   \n",
            "2     TRAFICO      0        0      0      0     0      0      0       0   \n",
            "3    COMERCIO     13        9     18     16     8     14     13       6   \n",
            "4  SUMINISTRO      0        0      0      0     0      0      0       0   \n",
            "\n",
            "   SEPTIEMBRE  OCTUBRE  NOVIEMBRE  DICIEMBRE  \n",
            "0         0.0      0.0        1.0        0.0  \n",
            "1         0.0      0.0        2.0        0.0  \n",
            "2         0.0      0.0        0.0        0.0  \n",
            "3         0.0      0.0        0.0        0.0  \n",
            "4         0.0      0.0        0.0        0.0  \n"
          ]
        }
      ],
      "source": [
        "# Leyendo archivos en DataFrames, a partir de los archivos csv generados, provenientes de las fuentes de datos.\n",
        "df_incidencia = pd.read_csv(f'{folder_path_data}/CifrasdeIncidenciaDelictivaFederal2012agosto2023.csv')\n",
        "\n",
        "print(df_incidencia.head())"
      ]
    },
    {
      "cell_type": "code",
      "execution_count": 13,
      "metadata": {
        "colab": {
          "base_uri": "https://localhost:8080/"
        },
        "id": "iG5cxzHLO728",
        "outputId": "c6b87c69-bd25-491a-abfb-293e0ab597f5"
      },
      "outputs": [
        {
          "name": "stdout",
          "output_type": "stream",
          "text": [
            "    Año  Clave_Ent         Entidad  Cve. Municipio       Municipio  \\\n",
            "0  2015          1  Aguascalientes            1001  Aguascalientes   \n",
            "1  2015          1  Aguascalientes            1001  Aguascalientes   \n",
            "2  2015          1  Aguascalientes            1001  Aguascalientes   \n",
            "3  2015          1  Aguascalientes            1001  Aguascalientes   \n",
            "4  2015          1  Aguascalientes            1001  Aguascalientes   \n",
            "\n",
            "             Bien jurídico afectado Tipo de delito  Subtipo de delito  \\\n",
            "0  La vida y la Integridad corporal      Homicidio   Homicidio doloso   \n",
            "1  La vida y la Integridad corporal      Homicidio   Homicidio doloso   \n",
            "2  La vida y la Integridad corporal      Homicidio   Homicidio doloso   \n",
            "3  La vida y la Integridad corporal      Homicidio   Homicidio doloso   \n",
            "4  La vida y la Integridad corporal      Homicidio  Homicidio culposo   \n",
            "\n",
            "           Modalidad  Enero  ...  Marzo  Abril  Mayo  Junio  Julio  Agosto  \\\n",
            "0  Con arma de fuego      2  ...      1      1     0      1      1       0   \n",
            "1    Con arma blanca      1  ...      0      0     0      1      0       1   \n",
            "2  Con otro elemento      0  ...      1      1     3      2      0       1   \n",
            "3    No especificado      1  ...      0      1     0      0      0       0   \n",
            "4  Con arma de fuego      0  ...      0      0     1      0      0       0   \n",
            "\n",
            "   Septiembre  Octubre  Noviembre  Diciembre  \n",
            "0         2.0      1.0        0.0        1.0  \n",
            "1         0.0      0.0        0.0        0.0  \n",
            "2         2.0      0.0        0.0        0.0  \n",
            "3         0.0      0.0        0.0        0.0  \n",
            "4         0.0      0.0        0.0        0.0  \n",
            "\n",
            "[5 rows x 21 columns]\n"
          ]
        }
      ],
      "source": [
        "# Leyendo archivos en DataFrames, a partir de los archivos csv generados, provenientes de las fuentes de datos.\n",
        "df_incidencia = pd.read_csv(f'{folder_path_data}/CifrasdeIncidenciaDelictivaMunicipal2015agosto2023.csv')\n",
        "\n",
        "print(df_incidencia.head())"
      ]
    },
    {
      "cell_type": "code",
      "execution_count": 14,
      "metadata": {
        "colab": {
          "base_uri": "https://localhost:8080/"
        },
        "id": "GSDpp3NlPEOh",
        "outputId": "9d395263-84df-4c1f-bcb0-a36dc8f091a5"
      },
      "outputs": [
        {
          "name": "stdout",
          "output_type": "stream",
          "text": [
            "    Año  Clave_Ent         Entidad            Bien jurídico afectado  \\\n",
            "0  2015          1  Aguascalientes  La vida y la Integridad corporal   \n",
            "1  2015          1  Aguascalientes  La vida y la Integridad corporal   \n",
            "2  2015          1  Aguascalientes  La vida y la Integridad corporal   \n",
            "3  2015          1  Aguascalientes  La vida y la Integridad corporal   \n",
            "4  2015          1  Aguascalientes  La vida y la Integridad corporal   \n",
            "\n",
            "  Tipo de delito  Subtipo de delito          Modalidad   Sexo  \\\n",
            "0      Homicidio   Homicidio doloso  Con arma de fuego  Mujer   \n",
            "1      Homicidio   Homicidio doloso    Con arma blanca  Mujer   \n",
            "2      Homicidio   Homicidio doloso  Con otro elemento  Mujer   \n",
            "3      Homicidio   Homicidio doloso    No especificado  Mujer   \n",
            "4      Homicidio  Homicidio culposo  Con arma de fuego  Mujer   \n",
            "\n",
            "            Rango de edad  Enero  ...  Marzo  Abril  Mayo  Junio  Julio  \\\n",
            "0  Menores de edad (0-17)      0  ...      0      0     0      0      0   \n",
            "1  Menores de edad (0-17)      0  ...      0      0     0      0      0   \n",
            "2  Menores de edad (0-17)      0  ...      0      0     1      0      0   \n",
            "3  Menores de edad (0-17)      0  ...      0      0     0      0      0   \n",
            "4  Menores de edad (0-17)      0  ...      0      0     0      0      0   \n",
            "\n",
            "   Agosto  Septiembre  Octubre  Noviembre  Diciembre  \n",
            "0       0         0.0      0.0        0.0        0.0  \n",
            "1       0         0.0      0.0        0.0        0.0  \n",
            "2       1         0.0      0.0        0.0        0.0  \n",
            "3       0         0.0      0.0        0.0        0.0  \n",
            "4       0         0.0      0.0        0.0        0.0  \n",
            "\n",
            "[5 rows x 21 columns]\n"
          ]
        }
      ],
      "source": [
        "# Leyendo archivos en DataFrames, a partir de los archivos csv generados, provenientes de las fuentes de datos.\n",
        "df_incidencia = pd.read_csv(f'{folder_path_data}/CifrasdeVictimasdelFueroComun2015agosto2023.csv')\n",
        "\n",
        "print(df_incidencia.head())"
      ]
    }
  ],
  "metadata": {
    "colab": {
      "provenance": []
    },
    "kernelspec": {
      "display_name": "Python 3",
      "name": "python3"
    },
    "language_info": {
      "codemirror_mode": {
        "name": "ipython",
        "version": 3
      },
      "file_extension": ".py",
      "mimetype": "text/x-python",
      "name": "python",
      "nbconvert_exporter": "python",
      "pygments_lexer": "ipython3",
      "version": "3.12.0"
    }
  },
  "nbformat": 4,
  "nbformat_minor": 0
}
