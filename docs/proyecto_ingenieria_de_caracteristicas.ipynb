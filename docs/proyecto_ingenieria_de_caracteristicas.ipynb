{
 "cells": [
  {
   "cell_type": "markdown",
   "id": "9bb5d812",
   "metadata": {
    "slideshow": {
     "slide_type": "slide"
    }
   },
   "source": [
    "<center><img src=\"https://upload.wikimedia.org/wikipedia/commons/6/68/Escudo_Unison.png\" width=\"200\"\n",
    "     height=\"200\"/></center>\n",
    "\n",
    "<center>\n",
    "    <b>\"El saber de mis hijos hará mi grandeza\"</b>\n",
    "</center>    \n",
    " <center>   \n",
    "Facultad de ciencias exactas y naturales\n",
    "</center>    \n",
    " <center>   \n",
    "Departamento de matemáticas\n",
    " </center> \n",
    " <center>\n",
    "Maestría en Ciencia de datos\n",
    " </center> \n",
    " <center>\n",
    "Curso de Ingenería de características\n",
    "</center>    \n",
    "<center>\n",
    "Prof. Julio Waissman\n",
    "</center>\n",
    "<center>\n",
    "Proyecto\n",
    "</center>\n",
    "<center>\n",
    "Análisis de la variabilidad del comportamiento delictivo en relación con factores temporales y geográficos, y su correlación con el desarrollo social y urbano para la prevención del delito.\n",
    "</center>\n",
    "<center>\n",
    "Mario Estrada Ferreira\n",
    "    </center>\n",
    "    <center>\n",
    "Miguel Ernesto Medina León\n",
    "    </center>\n",
    "    <center>\n",
    "Andrés Burruel\n",
    "</center>\n",
    "<center>\n",
    "Hermosillo, Sonora, México.\n",
    "</center>"
   ]
  },
  {
   "cell_type": "markdown",
   "id": "dcd540ab",
   "metadata": {
    "slideshow": {
     "slide_type": "slide"
    }
   },
   "source": [
    "# Historias por contar"
   ]
  },
  {
   "cell_type": "markdown",
   "id": "8463f88c",
   "metadata": {
    "slideshow": {
     "slide_type": "slide"
    }
   },
   "source": [
    "<center><img src=\"https://www.productosjumbo.com/wp-content/uploads/2021/07/banner-canchasc.jpg\" width=\"350\"\n",
    "     height=\"350\"/></center>\n",
    "<figcaption align = \"center\">\n",
    "\n",
    "\n",
    "## Efectos del desarrollo social y urbano sobre la disminución de la delincuencia\n",
    "\n",
    "El paisaje urbano ha experimentado cambios notables en los últimos años, con la creación de nuevos parques, espacios verdes, canchas deportivas y áreas recreativas. Estos proyectos urbanos plantean la pregunta de su utilidad y efecto en la sociedad. Se ha formulado la hipótesis de que los espacios verdes y las áreas recreativas pueden desviar la atención de la población, en particular de los jóvenes, de actividades delictivas, como el consumo de drogas o la participación en pandillas. Sin embargo, ¿hasta qué punto esta hipótesis se sostiene? Este estudio propone una investigación que compara conjuntos de datos sobre la incidencia delictiva en municipios y colonias con datos proporcionados por la Secretaría de Desarrollo Social y Urbano. El objetivo es determinar si existe una correlación significativa entre el desarrollo social y urbano y la reducción de la delincuencia, así como analizar el impacto de las áreas recreativas en la población en términos de prevención del delito."
   ]
  },
  {
   "cell_type": "markdown",
   "id": "629dfbd5",
   "metadata": {
    "slideshow": {
     "slide_type": "slide"
    }
   },
   "source": [
    "<center><img src=\"https://englishlive.ef.com/es-mx/blog/wp-content/uploads/sites/8/2018/07/Hablemos-de-las-estaciones-y-el-clima-en-ingl%C3%A9s1.jpg\" width=\"500\"\n",
    "     height=\"500\"/></center>\n",
    "<figcaption align = \"center\">\n",
    "\n",
    "\n",
    "## Impacto de las estaciones en la incidencia de un tipo específico de delito.\"\n",
    "\n",
    "¿Influye la temporada en la incidencia de diferentes tipos de delitos y cuáles predominan en cada estación? Esta interrogante cobra relevancia en el contexto de Sonora, un estado caracterizado por su variabilidad climática. Por ejemplo, las elevadas temperaturas del verano o las pocas horas de sol en invierno podrían influir en el comportamiento delictivo y su distribución. Para abordar esta cuestión, se requieren dos conjuntos de datos: uno que registre los tipos de delitos cometidos a lo largo del año y otro que recoja información climática durante el mismo período."
   ]
  },
  {
   "cell_type": "markdown",
   "id": "c22cfc88",
   "metadata": {
    "slideshow": {
     "slide_type": "slide"
    }
   },
   "source": [
    "<center><img src=\"https://pbs.twimg.com/media/E-TEFJUWUAUx5q4.png\" width=\"200\"\n",
    "     height=\"200\"/></center>\n",
    "<figcaption align = \"center\">\n",
    "\n",
    "\n",
    "## Análisis geoespacial de la distribución de tipos de delito en el estado de Sonora: norte, centro y sur.\n",
    "\n",
    "Este estudio tiene como objetivo investigar la incidencia de diversos tipos de delitos en diferentes zonas del estado de Sonora. Dado que Sonora es uno de los estados más extensos de México, resulta relevante comprender la distribución de estos delitos en el norte, centro y sur, y determinar si existen correlaciones significativas tanto entre las zonas como entre los municipios. Se llevará a cabo una comparación de los delitos en la frontera norte y sur del estado, con el propósito de identificar patrones y determinar cuál de estas áreas presenta una mayor conflictividad delictiva. Para llevar a cabo esta investigación, se empleará una base de datos que registra la ocurrencia de diferentes tipos de delitos en los municipios de Sonora a lo largo de un período de 5 años."
   ]
  },
  {
   "cell_type": "code",
   "execution_count": null,
   "id": "465b5871",
   "metadata": {},
   "outputs": [],
   "source": []
  }
 ],
 "metadata": {
  "celltoolbar": "Slideshow",
  "kernelspec": {
   "display_name": "Python 3",
   "language": "python",
   "name": "python3"
  },
  "language_info": {
   "codemirror_mode": {
    "name": "ipython",
    "version": 3
   },
   "file_extension": ".py",
   "mimetype": "text/x-python",
   "name": "python",
   "nbconvert_exporter": "python",
   "pygments_lexer": "ipython3",
   "version": "3.8.8"
  }
 },
 "nbformat": 4,
 "nbformat_minor": 5
}
